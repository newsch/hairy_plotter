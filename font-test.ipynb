{
 "cells": [
  {
   "cell_type": "code",
   "execution_count": 1,
   "metadata": {},
   "outputs": [],
   "source": [
    "import matplotlib.pyplot as plt"
   ]
  },
  {
   "cell_type": "code",
   "execution_count": 2,
   "metadata": {},
   "outputs": [],
   "source": [
    "%load_ext autoreload\n",
    "%autoreload 1\n",
    "%aimport font"
   ]
  },
  {
   "cell_type": "code",
   "execution_count": 105,
   "metadata": {},
   "outputs": [
    {
     "data": {
      "text/plain": [
       "{' ': 699,\n",
       " '!': 714,\n",
       " '\"': 717,\n",
       " '#': 733,\n",
       " '$': 719,\n",
       " '%': 2271,\n",
       " '&': 734,\n",
       " \"'\": 731,\n",
       " '(': 721,\n",
       " ')': 722,\n",
       " '*': 2219,\n",
       " '+': 725,\n",
       " ',': 711,\n",
       " '-': 724,\n",
       " '.': 710,\n",
       " '/': 720,\n",
       " '0': 700,\n",
       " '1': 701,\n",
       " '2': 702,\n",
       " '3': 703,\n",
       " '4': 704,\n",
       " '5': 705,\n",
       " '6': 706,\n",
       " '7': 707,\n",
       " '8': 708,\n",
       " '9': 709,\n",
       " ':': 712,\n",
       " ';': 713,\n",
       " '<': 2241,\n",
       " '=': 726,\n",
       " '>': 2242,\n",
       " '?': 715,\n",
       " '@': 2273,\n",
       " 'A': 501,\n",
       " 'B': 502,\n",
       " 'C': 503,\n",
       " 'D': 504,\n",
       " 'E': 505,\n",
       " 'F': 506,\n",
       " 'G': 507,\n",
       " 'H': 508,\n",
       " 'I': 509,\n",
       " 'J': 510,\n",
       " 'K': 511,\n",
       " 'L': 512,\n",
       " 'M': 513,\n",
       " 'N': 514,\n",
       " 'O': 515,\n",
       " 'P': 516,\n",
       " 'Q': 517,\n",
       " 'R': 518,\n",
       " 'S': 519,\n",
       " 'T': 520,\n",
       " 'U': 521,\n",
       " 'V': 522,\n",
       " 'W': 523,\n",
       " 'X': 524,\n",
       " 'Y': 525,\n",
       " 'Z': 526,\n",
       " '[': 2223,\n",
       " '\\\\': 804,\n",
       " ']': 2224,\n",
       " '^': 2262,\n",
       " '_': 999,\n",
       " '`': 730,\n",
       " 'a': 601,\n",
       " 'b': 602,\n",
       " 'c': 603,\n",
       " 'd': 604,\n",
       " 'e': 605,\n",
       " 'f': 606,\n",
       " 'g': 607,\n",
       " 'h': 608,\n",
       " 'i': 609,\n",
       " 'j': 610,\n",
       " 'k': 611,\n",
       " 'l': 612,\n",
       " 'm': 613,\n",
       " 'n': 614,\n",
       " 'o': 615,\n",
       " 'p': 616,\n",
       " 'q': 617,\n",
       " 'r': 618,\n",
       " 's': 619,\n",
       " 't': 620,\n",
       " 'u': 621,\n",
       " 'v': 622,\n",
       " 'w': 623,\n",
       " 'x': 624,\n",
       " 'y': 625,\n",
       " 'z': 626,\n",
       " '{': 2225,\n",
       " '|': 723,\n",
       " '}': 2226,\n",
       " '~': 2246,\n",
       " '\\x7f': 718}"
      ]
     },
     "execution_count": 105,
     "metadata": {},
     "output_type": "execute_result"
    }
   ],
   "source": [
    "with open('../romans.hmp', 'r') as f:\n",
    "    hmap = f.read()\n",
    "c = font.make_ascii_charcode_map(hmap)\n",
    "c"
   ]
  },
  {
   "cell_type": "code",
   "execution_count": 107,
   "metadata": {},
   "outputs": [],
   "source": [
    "with open('../hershey', 'r') as f:\n",
    "    pathmap = {c: p for c, p in font.parse_hershey_file(f)}\n",
    "romans = {a: pathmap[code] for a, code in c.items()}"
   ]
  },
  {
   "cell_type": "code",
   "execution_count": 108,
   "metadata": {},
   "outputs": [
    {
     "data": {
      "text/plain": [
       "{' ': Glyph(left=-8, right=8, paths=[[]]),\n",
       " '!': Glyph(left=-5, right=5, paths=[[(0, 12), (0, -2)], [(0, -7), (-1, -8), (0, -9), (1, -8), (0, -7)]]),\n",
       " '\"': Glyph(left=-8, right=8, paths=[[(-4, 12), (-4, 5)], [(4, 12), (4, 5)]]),\n",
       " '#': Glyph(left=-10, right=11, paths=[[(1, 16), (-6, -16)], [(7, 16), (0, -16)], [(-6, 3), (8, 3)], [(-7, -3), (7, -3)]]),\n",
       " '$': Glyph(left=-10, right=10, paths=[[(-2, 16), (-2, -13)], [(2, 16), (2, -13)], [(7, 9), (5, 11), (2, 12), (-2, 12), (-5, 11), (-7, 9), (-7, 7), (-6, 5), (-5, 4), (-3, 3), (3, 1), (5, 0), (6, -1), (7, -3), (7, -6), (5, -8), (2, -9), (-2, -9), (-5, -8), (-7, -6)]]),\n",
       " '%': Glyph(left=-12, right=12, paths=[[(9, 12), (-9, -9)], [(-4, 12), (-2, 10), (-2, 8), (-3, 6), (-5, 5), (-7, 5), (-9, 7), (-9, 9), (-8, 11), (-6, 12), (-4, 12), (-2, 11), (1, 10), (4, 10), (7, 11), (9, 12)], [(5, -2), (3, -3), (2, -5), (2, -7), (4, -9), (6, -9), (8, -8), (9, -6), (9, -4), (7, -2), (5, -2)]]),\n",
       " '&': Glyph(left=-13, right=13, paths=[[(10, 3), (10, 4), (9, 5), (8, 5), (7, 4), (6, 2), (4, -3), (2, -6), (0, -8), (-2, -9), (-6, -9), (-8, -8), (-9, -7), (-10, -5), (-10, -3), (-9, -1), (-8, 0), (-1, 4), (0, 5), (1, 7), (1, 9), (0, 11), (-2, 12), (-4, 11), (-5, 9), (-5, 7), (-4, 4), (-2, 1), (3, -6), (5, -8), (7, -9), (9, -9), (10, -8), (10, -7)]]),\n",
       " \"'\": Glyph(left=-5, right=5, paths=[[(0, 10), (-1, 11), (0, 12), (1, 11), (1, 9), (0, 7), (-1, 6)]]),\n",
       " '(': Glyph(left=-7, right=7, paths=[[(4, 16), (2, 14), (0, 11), (-2, 7), (-3, 2), (-3, -2), (-2, -7), (0, -11), (2, -14), (4, -16)]]),\n",
       " ')': Glyph(left=-7, right=7, paths=[[(-4, 16), (-2, 14), (0, 11), (2, 7), (3, 2), (3, -2), (2, -7), (0, -11), (-2, -14), (-4, -16)]]),\n",
       " '*': Glyph(left=-8, right=8, paths=[[(0, 12), (0, 0)], [(-5, 9), (5, 3)], [(5, 9), (-5, 3)]]),\n",
       " '+': Glyph(left=-13, right=13, paths=[[(0, 9), (0, -9)], [(-9, 0), (9, 0)]]),\n",
       " ',': Glyph(left=-5, right=5, paths=[[(1, -8), (0, -9), (-1, -8), (0, -7), (1, -8), (1, -10), (0, -12), (-1, -13)]]),\n",
       " '-': Glyph(left=-13, right=13, paths=[[(-9, 0), (9, 0)]]),\n",
       " '.': Glyph(left=-5, right=5, paths=[[(0, -7), (-1, -8), (0, -9), (1, -8), (0, -7)]]),\n",
       " '/': Glyph(left=-11, right=11, paths=[[(9, 16), (-9, -16)]]),\n",
       " '0': Glyph(left=-10, right=10, paths=[[(-1, 12), (-4, 11), (-6, 8), (-7, 3), (-7, 0), (-6, -5), (-4, -8), (-1, -9), (1, -9), (4, -8), (6, -5), (7, 0), (7, 3), (6, 8), (4, 11), (1, 12), (-1, 12)]]),\n",
       " '1': Glyph(left=-10, right=10, paths=[[(-4, 8), (-2, 9), (1, 12), (1, -9)]]),\n",
       " '2': Glyph(left=-10, right=10, paths=[[(-6, 7), (-6, 8), (-5, 10), (-4, 11), (-2, 12), (2, 12), (4, 11), (5, 10), (6, 8), (6, 6), (5, 4), (3, 1), (-7, -9), (7, -9)]]),\n",
       " '3': Glyph(left=-10, right=10, paths=[[(-5, 12), (6, 12), (0, 4), (3, 4), (5, 3), (6, 2), (7, -1), (7, -3), (6, -6), (4, -8), (1, -9), (-2, -9), (-5, -8), (-6, -7), (-7, -5)]]),\n",
       " '4': Glyph(left=-10, right=10, paths=[[(3, 12), (-7, -2), (8, -2)], [(3, 12), (3, -9)]]),\n",
       " '5': Glyph(left=-10, right=10, paths=[[(5, 12), (-5, 12), (-6, 3), (-5, 4), (-2, 5), (1, 5), (4, 4), (6, 2), (7, -1), (7, -3), (6, -6), (4, -8), (1, -9), (-2, -9), (-5, -8), (-6, -7), (-7, -5)]]),\n",
       " '6': Glyph(left=-10, right=10, paths=[[(6, 9), (5, 11), (2, 12), (0, 12), (-3, 11), (-5, 8), (-6, 3), (-6, -2), (-5, -6), (-3, -8), (0, -9), (1, -9), (4, -8), (6, -6), (7, -3), (7, -2), (6, 1), (4, 3), (1, 4), (0, 4), (-3, 3), (-5, 1), (-6, -2)]]),\n",
       " '7': Glyph(left=-10, right=10, paths=[[(7, 12), (-3, -9)], [(-7, 12), (7, 12)]]),\n",
       " '8': Glyph(left=-10, right=10, paths=[[(-2, 12), (-5, 11), (-6, 9), (-6, 7), (-5, 5), (-3, 4), (1, 3), (4, 2), (6, 0), (7, -2), (7, -5), (6, -7), (5, -8), (2, -9), (-2, -9), (-5, -8), (-6, -7), (-7, -5), (-7, -2), (-6, 0), (-4, 2), (-1, 3), (3, 4), (5, 5), (6, 7), (6, 9), (5, 11), (2, 12), (-2, 12)]]),\n",
       " '9': Glyph(left=-10, right=10, paths=[[(6, 5), (5, 2), (3, 0), (0, -1), (-1, -1), (-4, 0), (-6, 2), (-7, 5), (-7, 6), (-6, 9), (-4, 11), (-1, 12), (0, 12), (3, 11), (5, 9), (6, 5), (6, 0), (5, -5), (3, -8), (0, -9), (-2, -9), (-5, -8), (-6, -6)]]),\n",
       " ':': Glyph(left=-5, right=5, paths=[[(0, 5), (-1, 4), (0, 3), (1, 4), (0, 5)], [(0, -7), (-1, -8), (0, -9), (1, -8), (0, -7)]]),\n",
       " ';': Glyph(left=-5, right=5, paths=[[(0, 5), (-1, 4), (0, 3), (1, 4), (0, 5)], [(1, -8), (0, -9), (-1, -8), (0, -7), (1, -8), (1, -10), (0, -12), (-1, -13)]]),\n",
       " '<': Glyph(left=-12, right=12, paths=[[(8, 9), (-8, 0), (8, -9)]]),\n",
       " '=': Glyph(left=-13, right=13, paths=[[(-9, 3), (9, 3)], [(-9, -3), (9, -3)]]),\n",
       " '>': Glyph(left=-12, right=12, paths=[[(-8, 9), (8, 0), (-8, -9)]]),\n",
       " '?': Glyph(left=-9, right=9, paths=[[(-6, 7), (-6, 8), (-5, 10), (-4, 11), (-2, 12), (2, 12), (4, 11), (5, 10), (6, 8), (6, 6), (5, 4), (4, 3), (0, 1), (0, -2)], [(0, -7), (-1, -8), (0, -9), (1, -8), (0, -7)]]),\n",
       " '@': Glyph(left=-13, right=14, paths=[[(5, 4), (4, 6), (2, 7), (-1, 7), (-3, 6), (-4, 5), (-5, 2), (-5, -1), (-4, -3), (-2, -4), (1, -4), (3, -3), (4, -1)], [(-1, 7), (-3, 5), (-4, 2), (-4, -1), (-3, -3), (-2, -4)], [(5, 7), (4, -1), (4, -3), (6, -4), (8, -4), (10, -2), (11, 1), (11, 3), (10, 6), (9, 8), (7, 10), (5, 11), (2, 12), (-1, 12), (-4, 11), (-6, 10), (-8, 8), (-9, 6), (-10, 3), (-10, 0), (-9, -3), (-8, -5), (-6, -7), (-4, -8), (-1, -9), (2, -9), (5, -8), (7, -7), (8, -6)], [(6, 7), (5, -1), (5, -3), (6, -4)]]),\n",
       " 'A': Glyph(left=-9, right=9, paths=[[(0, 12), (-8, -9)], [(0, 12), (8, -9)], [(-5, -2), (5, -2)]]),\n",
       " 'B': Glyph(left=-11, right=10, paths=[[(-7, 12), (-7, -9)], [(-7, 12), (2, 12), (5, 11), (6, 10), (7, 8), (7, 6), (6, 4), (5, 3), (2, 2)], [(-7, 2), (2, 2), (5, 1), (6, 0), (7, -2), (7, -5), (6, -7), (5, -8), (2, -9), (-7, -9)]]),\n",
       " 'C': Glyph(left=-10, right=11, paths=[[(8, 7), (7, 9), (5, 11), (3, 12), (-1, 12), (-3, 11), (-5, 9), (-6, 7), (-7, 4), (-7, -1), (-6, -4), (-5, -6), (-3, -8), (-1, -9), (3, -9), (5, -8), (7, -6), (8, -4)]]),\n",
       " 'D': Glyph(left=-11, right=10, paths=[[(-7, 12), (-7, -9)], [(-7, 12), (0, 12), (3, 11), (5, 9), (6, 7), (7, 4), (7, -1), (6, -4), (5, -6), (3, -8), (0, -9), (-7, -9)]]),\n",
       " 'E': Glyph(left=-10, right=9, paths=[[(-6, 12), (-6, -9)], [(-6, 12), (7, 12)], [(-6, 2), (2, 2)], [(-6, -9), (7, -9)]]),\n",
       " 'F': Glyph(left=-10, right=8, paths=[[(-6, 12), (-6, -9)], [(-6, 12), (7, 12)], [(-6, 2), (2, 2)]]),\n",
       " 'G': Glyph(left=-10, right=11, paths=[[(8, 7), (7, 9), (5, 11), (3, 12), (-1, 12), (-3, 11), (-5, 9), (-6, 7), (-7, 4), (-7, -1), (-6, -4), (-5, -6), (-3, -8), (-1, -9), (3, -9), (5, -8), (7, -6), (8, -4), (8, -1)], [(3, -1), (8, -1)]]),\n",
       " 'H': Glyph(left=-11, right=11, paths=[[(-7, 12), (-7, -9)], [(7, 12), (7, -9)], [(-7, 2), (7, 2)]]),\n",
       " 'I': Glyph(left=-4, right=4, paths=[[(0, 12), (0, -9)]]),\n",
       " 'J': Glyph(left=-8, right=8, paths=[[(4, 12), (4, -4), (3, -7), (2, -8), (0, -9), (-2, -9), (-4, -8), (-5, -7), (-6, -4), (-6, -2)]]),\n",
       " 'K': Glyph(left=-11, right=10, paths=[[(-7, 12), (-7, -9)], [(7, 12), (-7, -2)], [(-2, 3), (7, -9)]]),\n",
       " 'L': Glyph(left=-10, right=7, paths=[[(-6, 12), (-6, -9)], [(-6, -9), (6, -9)]]),\n",
       " 'M': Glyph(left=-12, right=12, paths=[[(-8, 12), (-8, -9)], [(-8, 12), (0, -9)], [(8, 12), (0, -9)], [(8, 12), (8, -9)]]),\n",
       " 'N': Glyph(left=-11, right=11, paths=[[(-7, 12), (-7, -9)], [(-7, 12), (7, -9)], [(7, 12), (7, -9)]]),\n",
       " 'O': Glyph(left=-11, right=11, paths=[[(-2, 12), (-4, 11), (-6, 9), (-7, 7), (-8, 4), (-8, -1), (-7, -4), (-6, -6), (-4, -8), (-2, -9), (2, -9), (4, -8), (6, -6), (7, -4), (8, -1), (8, 4), (7, 7), (6, 9), (4, 11), (2, 12), (-2, 12)]]),\n",
       " 'P': Glyph(left=-11, right=10, paths=[[(-7, 12), (-7, -9)], [(-7, 12), (2, 12), (5, 11), (6, 10), (7, 8), (7, 5), (6, 3), (5, 2), (2, 1), (-7, 1)]]),\n",
       " 'Q': Glyph(left=-11, right=11, paths=[[(-2, 12), (-4, 11), (-6, 9), (-7, 7), (-8, 4), (-8, -1), (-7, -4), (-6, -6), (-4, -8), (-2, -9), (2, -9), (4, -8), (6, -6), (7, -4), (8, -1), (8, 4), (7, 7), (6, 9), (4, 11), (2, 12), (-2, 12)], [(1, -5), (7, -11)]]),\n",
       " 'R': Glyph(left=-11, right=10, paths=[[(-7, 12), (-7, -9)], [(-7, 12), (2, 12), (5, 11), (6, 10), (7, 8), (7, 6), (6, 4), (5, 3), (2, 2), (-7, 2)], [(0, 2), (7, -9)]]),\n",
       " 'S': Glyph(left=-10, right=10, paths=[[(7, 9), (5, 11), (2, 12), (-2, 12), (-5, 11), (-7, 9), (-7, 7), (-6, 5), (-5, 4), (-3, 3), (3, 1), (5, 0), (6, -1), (7, -3), (7, -6), (5, -8), (2, -9), (-2, -9), (-5, -8), (-7, -6)]]),\n",
       " 'T': Glyph(left=-8, right=8, paths=[[(0, 12), (0, -9)], [(-7, 12), (7, 12)]]),\n",
       " 'U': Glyph(left=-11, right=11, paths=[[(-7, 12), (-7, -3), (-6, -6), (-4, -8), (-1, -9), (1, -9), (4, -8), (6, -6), (7, -3), (7, 12)]]),\n",
       " 'V': Glyph(left=-9, right=9, paths=[[(-8, 12), (0, -9)], [(8, 12), (0, -9)]]),\n",
       " 'W': Glyph(left=-12, right=12, paths=[[(-10, 12), (-5, -9)], [(0, 12), (-5, -9)], [(0, 12), (5, -9)], [(10, 12), (5, -9)]]),\n",
       " 'X': Glyph(left=-10, right=10, paths=[[(-7, 12), (7, -9)], [(7, 12), (-7, -9)]]),\n",
       " 'Y': Glyph(left=-9, right=9, paths=[[(-8, 12), (0, 2), (0, -9)], [(8, 12), (0, 2)]]),\n",
       " 'Z': Glyph(left=-10, right=10, paths=[[(7, 12), (-7, -9)], [(-7, 12), (7, 12)], [(-7, -9), (7, -9)]]),\n",
       " '[': Glyph(left=-7, right=7, paths=[[(-3, 16), (-3, -16)], [(-2, 16), (-2, -16)], [(-3, 16), (4, 16)], [(-3, -16), (4, -16)]]),\n",
       " '\\\\': Glyph(left=-7, right=7, paths=[[(-7, 12), (7, -12)]]),\n",
       " ']': Glyph(left=-7, right=7, paths=[[(2, 16), (2, -16)], [(3, 16), (3, -16)], [(-4, 16), (3, 16)], [(-4, -16), (3, -16)]]),\n",
       " '^': Glyph(left=-8, right=8, paths=[[(-2, 6), (0, 9), (2, 6)], [(-5, 3), (0, 8), (5, 3)], [(0, 8), (0, -9)]]),\n",
       " '_': Glyph(left=-8, right=8, paths=[[(-8, -11), (8, -11)]]),\n",
       " '`': Glyph(left=-5, right=5, paths=[[(1, 12), (0, 11), (-1, 9), (-1, 7), (0, 6), (1, 7), (0, 8)]]),\n",
       " 'a': Glyph(left=-9, right=10, paths=[[(6, 5), (6, -9)], [(6, 2), (4, 4), (2, 5), (-1, 5), (-3, 4), (-5, 2), (-6, -1), (-6, -3), (-5, -6), (-3, -8), (-1, -9), (2, -9), (4, -8), (6, -6)]]),\n",
       " 'b': Glyph(left=-10, right=9, paths=[[(-6, 12), (-6, -9)], [(-6, 2), (-4, 4), (-2, 5), (1, 5), (3, 4), (5, 2), (6, -1), (6, -3), (5, -6), (3, -8), (1, -9), (-2, -9), (-4, -8), (-6, -6)]]),\n",
       " 'c': Glyph(left=-9, right=9, paths=[[(6, 2), (4, 4), (2, 5), (-1, 5), (-3, 4), (-5, 2), (-6, -1), (-6, -3), (-5, -6), (-3, -8), (-1, -9), (2, -9), (4, -8), (6, -6)]]),\n",
       " 'd': Glyph(left=-9, right=10, paths=[[(6, 12), (6, -9)], [(6, 2), (4, 4), (2, 5), (-1, 5), (-3, 4), (-5, 2), (-6, -1), (-6, -3), (-5, -6), (-3, -8), (-1, -9), (2, -9), (4, -8), (6, -6)]]),\n",
       " 'e': Glyph(left=-9, right=9, paths=[[(-6, -1), (6, -1), (6, 1), (5, 3), (4, 4), (2, 5), (-1, 5), (-3, 4), (-5, 2), (-6, -1), (-6, -3), (-5, -6), (-3, -8), (-1, -9), (2, -9), (4, -8), (6, -6)]]),\n",
       " 'f': Glyph(left=-5, right=7, paths=[[(5, 12), (3, 12), (1, 11), (0, 8), (0, -9)], [(-3, 5), (4, 5)]]),\n",
       " 'g': Glyph(left=-9, right=10, paths=[[(6, 5), (6, -11), (5, -14), (4, -15), (2, -16), (-1, -16), (-3, -15)], [(6, 2), (4, 4), (2, 5), (-1, 5), (-3, 4), (-5, 2), (-6, -1), (-6, -3), (-5, -6), (-3, -8), (-1, -9), (2, -9), (4, -8), (6, -6)]]),\n",
       " 'h': Glyph(left=-9, right=10, paths=[[(-5, 12), (-5, -9)], [(-5, 1), (-2, 4), (0, 5), (3, 5), (5, 4), (6, 1), (6, -9)]]),\n",
       " 'i': Glyph(left=-4, right=4, paths=[[(-1, 12), (0, 11), (1, 12), (0, 13), (-1, 12)], [(0, 5), (0, -9)]]),\n",
       " 'j': Glyph(left=-5, right=5, paths=[[(0, 12), (1, 11), (2, 12), (1, 13), (0, 12)], [(1, 5), (1, -12), (0, -15), (-2, -16), (-4, -16)]]),\n",
       " 'k': Glyph(left=-9, right=8, paths=[[(-5, 12), (-5, -9)], [(5, 5), (-5, -5)], [(-1, -1), (6, -9)]]),\n",
       " 'l': Glyph(left=-4, right=4, paths=[[(0, 12), (0, -9)]]),\n",
       " 'm': Glyph(left=-15, right=15, paths=[[(-11, 5), (-11, -9)], [(-11, 1), (-8, 4), (-6, 5), (-3, 5), (-1, 4), (0, 1), (0, -9)], [(0, 1), (3, 4), (5, 5), (8, 5), (10, 4), (11, 1), (11, -9)]]),\n",
       " 'n': Glyph(left=-9, right=10, paths=[[(-5, 5), (-5, -9)], [(-5, 1), (-2, 4), (0, 5), (3, 5), (5, 4), (6, 1), (6, -9)]]),\n",
       " 'o': Glyph(left=-9, right=10, paths=[[(-1, 5), (-3, 4), (-5, 2), (-6, -1), (-6, -3), (-5, -6), (-3, -8), (-1, -9), (2, -9), (4, -8), (6, -6), (7, -3), (7, -1), (6, 2), (4, 4), (2, 5), (-1, 5)]]),\n",
       " 'p': Glyph(left=-10, right=9, paths=[[(-6, 5), (-6, -16)], [(-6, 2), (-4, 4), (-2, 5), (1, 5), (3, 4), (5, 2), (6, -1), (6, -3), (5, -6), (3, -8), (1, -9), (-2, -9), (-4, -8), (-6, -6)]]),\n",
       " 'q': Glyph(left=-9, right=10, paths=[[(6, 5), (6, -16)], [(6, 2), (4, 4), (2, 5), (-1, 5), (-3, 4), (-5, 2), (-6, -1), (-6, -3), (-5, -6), (-3, -8), (-1, -9), (2, -9), (4, -8), (6, -6)]]),\n",
       " 'r': Glyph(left=-7, right=6, paths=[[(-3, 5), (-3, -9)], [(-3, -1), (-2, 2), (0, 4), (2, 5), (5, 5)]]),\n",
       " 's': Glyph(left=-8, right=9, paths=[[(6, 2), (5, 4), (2, 5), (-1, 5), (-4, 4), (-5, 2), (-4, 0), (-2, -1), (3, -2), (5, -3), (6, -5), (6, -6), (5, -8), (2, -9), (-1, -9), (-4, -8), (-5, -6)]]),\n",
       " 't': Glyph(left=-5, right=7, paths=[[(0, 12), (0, -5), (1, -8), (3, -9), (5, -9)], [(-3, 5), (4, 5)]]),\n",
       " 'u': Glyph(left=-9, right=10, paths=[[(-5, 5), (-5, -5), (-4, -8), (-2, -9), (1, -9), (3, -8), (6, -5)], [(6, 5), (6, -9)]]),\n",
       " 'v': Glyph(left=-8, right=8, paths=[[(-6, 5), (0, -9)], [(6, 5), (0, -9)]]),\n",
       " 'w': Glyph(left=-11, right=11, paths=[[(-8, 5), (-4, -9)], [(0, 5), (-4, -9)], [(0, 5), (4, -9)], [(8, 5), (4, -9)]]),\n",
       " 'x': Glyph(left=-8, right=9, paths=[[(-5, 5), (6, -9)], [(6, 5), (-5, -9)]]),\n",
       " 'y': Glyph(left=-8, right=8, paths=[[(-6, 5), (0, -9)], [(6, 5), (0, -9), (-2, -13), (-4, -15), (-6, -16), (-7, -16)]]),\n",
       " 'z': Glyph(left=-8, right=9, paths=[[(6, 5), (-5, -9)], [(-5, 5), (6, 5)], [(-5, -9), (6, -9)]]),\n",
       " '{': Glyph(left=-7, right=7, paths=[[(2, 16), (0, 15), (-1, 14), (-2, 12), (-2, 10), (-1, 8), (0, 7), (1, 5), (1, 3), (-1, 1)], [(0, 15), (-1, 13), (-1, 11), (0, 9), (1, 8), (2, 6), (2, 4), (1, 2), (-3, 0), (1, -2), (2, -4), (2, -6), (1, -8), (0, -9), (-1, -11), (-1, -13), (0, -15)], [(-1, -1), (1, -3), (1, -5), (0, -7), (-1, -8), (-2, -10), (-2, -12), (-1, -14), (0, -15), (2, -16)]]),\n",
       " '|': Glyph(left=-4, right=4, paths=[[(0, 16), (0, -16)]]),\n",
       " '}': Glyph(left=-7, right=7, paths=[[(-2, 16), (0, 15), (1, 14), (2, 12), (2, 10), (1, 8), (0, 7), (-1, 5), (-1, 3), (1, 1)], [(0, 15), (1, 13), (1, 11), (0, 9), (-1, 8), (-2, 6), (-2, 4), (-1, 2), (3, 0), (-1, -2), (-2, -4), (-2, -6), (-1, -8), (0, -9), (1, -11), (1, -13), (0, -15)], [(1, -1), (-1, -3), (-1, -5), (0, -7), (1, -8), (2, -10), (2, -12), (1, -14), (0, -15), (-2, -16)]]),\n",
       " '~': Glyph(left=-12, right=12, paths=[[(-9, -3), (-9, -1), (-8, 2), (-6, 3), (-4, 3), (-2, 2), (2, -1), (4, -2), (6, -2), (8, -1), (9, 1)], [(-9, -1), (-8, 1), (-6, 2), (-4, 2), (-2, 1), (2, -2), (4, -3), (6, -3), (8, -2), (9, 1), (9, 3)]]),\n",
       " '\\x7f': Glyph(left=-7, right=7, paths=[[(-1, 12), (-3, 11), (-4, 9), (-4, 7), (-3, 5), (-1, 4), (1, 4), (3, 5), (4, 7), (4, 9), (3, 11), (1, 12), (-1, 12)]])}"
      ]
     },
     "execution_count": 108,
     "metadata": {},
     "output_type": "execute_result"
    }
   ],
   "source": [
    "romans"
   ]
  },
  {
   "cell_type": "code",
   "execution_count": 113,
   "metadata": {},
   "outputs": [
    {
     "data": {
      "text/plain": [
       "Glyph(left=-12, right=12, paths=[[(8, 9), (-8, 0), (8, -9)]])"
      ]
     },
     "execution_count": 113,
     "metadata": {},
     "output_type": "execute_result"
    },
    {
     "data": {
      "image/png": "[encoded data removed]",
      "text/plain": [
       "<Figure size 432x288 with 1 Axes>"
      ]
     },
     "metadata": {
      "needs_background": "light"
     },
     "output_type": "display_data"
    }
   ],
   "source": [
    "font.plot_glyph(romans['<'])\n",
    "romans['<']"
   ]
  },
  {
   "cell_type": "code",
   "execution_count": 114,
   "metadata": {},
   "outputs": [
    {
     "data": {
      "text/plain": [
       "Glyph(left=-5, right=5, paths=[[(0, 12), (0, -2)], [(0, -7), (-1, -8), (0, -9), (1, -8), (0, -7)]])"
      ]
     },
     "execution_count": 114,
     "metadata": {},
     "output_type": "execute_result"
    },
    {
     "data": {
      "image/png": "[encoded data removed]",
      "text/plain": [
       "<Figure size 432x288 with 1 Axes>"
      ]
     },
     "metadata": {
      "needs_background": "light"
     },
     "output_type": "display_data"
    }
   ],
   "source": [
    "font.plot_glyph(romans['!'])\n",
    "romans['!']"
   ]
  },
  {
   "cell_type": "code",
   "execution_count": 115,
   "metadata": {},
   "outputs": [
    {
     "data": {
      "image/png": "[encoded data removed]",
      "text/plain": [
       "<Figure size 432x288 with 1 Axes>"
      ]
     },
     "metadata": {
      "needs_background": "light"
     },
     "output_type": "display_data"
    }
   ],
   "source": [
    "font.plot_glyph(romans['T'])"
   ]
  },
  {
   "cell_type": "code",
   "execution_count": 82,
   "metadata": {},
   "outputs": [
    {
     "data": {
      "image/png": "[encoded data removed]",
      "text/plain": [
       "<Figure size 432x288 with 1 Axes>"
      ]
     },
     "metadata": {
      "needs_background": "light"
     },
     "output_type": "display_data"
    }
   ],
   "source": [
    "font.plot_glyph(romans['t'])"
   ]
  },
  {
   "cell_type": "code",
   "execution_count": 177,
   "metadata": {},
   "outputs": [
    {
     "data": {
      "image/png": "[encoded data removed]",
      "text/plain": [
       "<Figure size 432x288 with 1 Axes>"
      ]
     },
     "metadata": {
      "needs_background": "light"
     },
     "output_type": "display_data"
    }
   ],
   "source": [
    "font.plot_glyph(romans['O'])"
   ]
  },
  {
   "cell_type": "code",
   "execution_count": 118,
   "metadata": {},
   "outputs": [
    {
     "data": {
      "text/plain": [
       "(11, 14)"
      ]
     },
     "execution_count": 118,
     "metadata": {},
     "output_type": "execute_result"
    }
   ],
   "source": [
    "font.calc_dimensions(romans['x'].paths)"
   ]
  },
  {
   "cell_type": "code",
   "execution_count": 176,
   "metadata": {},
   "outputs": [
    {
     "data": {
      "text/plain": [
       "(-8, 9)"
      ]
     },
     "execution_count": 176,
     "metadata": {},
     "output_type": "execute_result"
    }
   ],
   "source": [
    "romans['x'].left, romans['x'].right"
   ]
  },
  {
   "cell_type": "code",
   "execution_count": 194,
   "metadata": {},
   "outputs": [
    {
     "data": {
      "image/png": "[encoded data removed]",
      "text/plain": [
       "<Figure size 432x288 with 1 Axes>"
      ]
     },
     "metadata": {
      "needs_background": "light"
     },
     "output_type": "display_data"
    }
   ],
   "source": [
    "font.plot_str(romans, 'Lorem Ipsum')"
   ]
  },
  {
   "cell_type": "code",
   "execution_count": 226,
   "metadata": {},
   "outputs": [
    {
     "data": {
      "image/png": "[encoded data removed]",
      "text/plain": [
       "<Figure size 432x288 with 1 Axes>"
      ]
     },
     "metadata": {
      "needs_background": "light"
     },
     "output_type": "display_data"
    }
   ],
   "source": [
    "foo = font.str_to_paths(romans, 'Lorem Ipsum')\n",
    "font.plot_paths(foo)"
   ]
  },
  {
   "cell_type": "code",
   "execution_count": 227,
   "metadata": {},
   "outputs": [
    {
     "data": {
      "image/png": "[encoded data removed]",
      "text/plain": [
       "<Figure size 432x288 with 1 Axes>"
      ]
     },
     "metadata": {
      "needs_background": "light"
     },
     "output_type": "display_data"
    }
   ],
   "source": [
    "wrapped = font.str_to_paths(romans, 'Lorem Ipsum', scale = 0.5, wrap=80)\n",
    "font.plot_paths(wrapped)"
   ]
  },
  {
   "cell_type": "code",
   "execution_count": null,
   "metadata": {},
   "outputs": [],
   "source": []
  }
 ],
 "metadata": {
  "kernelspec": {
   "display_name": "Python 3",
   "language": "python",
   "name": "python3"
  },
  "language_info": {
   "codemirror_mode": {
    "name": "ipython",
    "version": 3
   },
   "file_extension": ".py",
   "mimetype": "text/x-python",
   "name": "python",
   "nbconvert_exporter": "python",
   "pygments_lexer": "ipython3",
   "version": "3.7.2"
  }
 },
 "nbformat": 4,
 "nbformat_minor": 2
}
